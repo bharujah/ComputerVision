{
 "cells": [
  {
   "cell_type": "code",
   "execution_count": 1,
   "id": "d266b0a4",
   "metadata": {},
   "outputs": [],
   "source": [
    "#flip image\n",
    "import numpy as numpy\n",
    "import cv2"
   ]
  },
  {
   "cell_type": "code",
   "execution_count": null,
   "id": "94eebd8f",
   "metadata": {},
   "outputs": [
    {
     "data": {
      "text/plain": [
       "-1"
      ]
     },
     "execution_count": 8,
     "metadata": {},
     "output_type": "execute_result"
    }
   ],
   "source": [
    "# rotating an image\n",
    "\n",
    "img = cv2.imread('./data/image.jpg')\n",
    "#cv2.imshow('people image',img)\n",
    "#cv2.waitKeyEx(0)\n",
    "\n",
    "flip = cv2.flip(img,0) #upside down\n",
    "flip = cv2.flip(img,-1) #mirror image \n",
    "cv2.imshow('people image',flip)\n",
    "cv2.waitKeyEx(0)"
   ]
  },
  {
   "cell_type": "code",
   "execution_count": null,
   "id": "1be3bd1e",
   "metadata": {},
   "outputs": [],
   "source": [
    "#downscale and Upscale\n",
    "\n",
    "img = cv2.imread('./data/image.jpg')\n"
   ]
  }
 ],
 "metadata": {
  "kernelspec": {
   "display_name": "cvEnv",
   "language": "python",
   "name": "python3"
  },
  "language_info": {
   "codemirror_mode": {
    "name": "ipython",
    "version": 3
   },
   "file_extension": ".py",
   "mimetype": "text/x-python",
   "name": "python",
   "nbconvert_exporter": "python",
   "pygments_lexer": "ipython3",
   "version": "3.9.13"
  }
 },
 "nbformat": 4,
 "nbformat_minor": 5
}
